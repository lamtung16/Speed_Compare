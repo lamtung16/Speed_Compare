{
  "nbformat": 4,
  "nbformat_minor": 0,
  "metadata": {
    "colab": {
      "provenance": [],
      "gpuType": "T4"
    },
    "kernelspec": {
      "name": "python3",
      "display_name": "Python 3"
    },
    "language_info": {
      "name": "python"
    },
    "accelerator": "GPU"
  },
  "cells": [
    {
      "cell_type": "code",
      "source": [
        "import time\n",
        "import numpy as np\n",
        "from joblib import Parallel, delayed\n",
        "import cupy as cp"
      ],
      "metadata": {
        "id": "tKAfRQSOnbR8"
      },
      "execution_count": 1,
      "outputs": []
    },
    {
      "cell_type": "code",
      "source": [
        "def compute_sum_regular_loop(n):\n",
        "    sum = 0\n",
        "    start_time = time.time()\n",
        "    for i in range(n+1):\n",
        "        sum += i\n",
        "    end_time = time.time()\n",
        "\n",
        "    print(\"Method: %20s \\t sum = %d \\t Time taken: %6.4f seconds\" % (\"regular loop\", sum, end_time - start_time))"
      ],
      "metadata": {
        "id": "amIyGQSanf9x"
      },
      "execution_count": 2,
      "outputs": []
    },
    {
      "cell_type": "code",
      "source": [
        "def compute_sum_builtin(n):\n",
        "    start_time = time.time()\n",
        "    _sum = sum(range(0, n+1))\n",
        "    end_time = time.time()\n",
        "\n",
        "    print(\"Method: %20s \\t sum = %d \\t Time taken: %6.4f seconds\" % (\"built-in sum func\", _sum, end_time - start_time))"
      ],
      "metadata": {
        "id": "1Fsvaqc2pxtq"
      },
      "execution_count": 3,
      "outputs": []
    },
    {
      "cell_type": "code",
      "source": [
        "def compute_sum_regular_parallel(n):\n",
        "    def compute_partial_sum(start, end):\n",
        "        sum = 0\n",
        "        for i in range(start, end+1):\n",
        "            sum += i\n",
        "        return sum\n",
        "\n",
        "    start_time = time.time()\n",
        "    partial_sums = Parallel(n_jobs=2)(delayed(compute_partial_sum)(start, end) for start, end in [(0, n//2), (n//2 + 1, n)])\n",
        "    end_time = time.time()\n",
        "\n",
        "    print(\"Method: %20s \\t sum = %d \\t Time taken: %6.4f seconds\" % (\"regular loop (prallel)\", sum(partial_sums), end_time - start_time))"
      ],
      "metadata": {
        "id": "k5F9_hOwpe2y"
      },
      "execution_count": 4,
      "outputs": []
    },
    {
      "cell_type": "code",
      "source": [
        "def compute_sum_numpy(n):\n",
        "    start_time = time.time()\n",
        "    sum = np.sum(np.arange(n+1))\n",
        "    end_time = time.time()\n",
        "    print(\"Method: %20s \\t sum = %d \\t Time taken: %6.4f seconds\" % (\"numpy.sum function\", sum, end_time - start_time))"
      ],
      "metadata": {
        "id": "1iqoPEofntmD"
      },
      "execution_count": 5,
      "outputs": []
    },
    {
      "cell_type": "code",
      "source": [
        "def compute_sum_gpu(n):\n",
        "    start_time = time.time()\n",
        "    result = cp.sum(cp.arange(n+1, dtype=cp.int64))\n",
        "    end_time = time.time()\n",
        "\n",
        "    print(\"Method: %20s \\t sum = %d \\t Time taken: %6.4f seconds\" % (\"cp.sum function\", result.get(), end_time - start_time))"
      ],
      "metadata": {
        "id": "F-Ad6FMYs6Om"
      },
      "execution_count": 6,
      "outputs": []
    },
    {
      "cell_type": "code",
      "source": [
        "n = 10**9\n",
        "\n",
        "compute_sum_regular_loop(n)\n",
        "compute_sum_regular_parallel(n)\n",
        "compute_sum_builtin(n)\n",
        "compute_sum_numpy(n)\n",
        "compute_sum_gpu(n)"
      ],
      "metadata": {
        "colab": {
          "base_uri": "https://localhost:8080/"
        },
        "id": "wBRQKmB-qrvX",
        "outputId": "948393f3-d7fe-4b49-aaeb-b28db633435f"
      },
      "execution_count": 7,
      "outputs": [
        {
          "output_type": "stream",
          "name": "stdout",
          "text": [
            "Method:         regular loop \t sum = 500000000500000000 \t Time taken: 70.8451 seconds\n",
            "Method: regular loop (prallel) \t sum = 500000000500000000 \t Time taken: 67.9102 seconds\n",
            "Method:    built-in sum func \t sum = 500000000500000000 \t Time taken: 19.9240 seconds\n",
            "Method:   numpy.sum function \t sum = 500000000500000000 \t Time taken: 2.5887 seconds\n",
            "Method:      cp.sum function \t sum = 500000000500000000 \t Time taken: 0.5190 seconds\n"
          ]
        }
      ]
    }
  ]
}